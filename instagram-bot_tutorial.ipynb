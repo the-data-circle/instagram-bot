{
 "cells": [
  {
   "cell_type": "code",
   "execution_count": null,
   "id": "c66dddf7",
   "metadata": {},
   "outputs": [],
   "source": [
    "#Import Dependencies\n",
    "from instagrapi import Client\n",
    "import config2\n",
    "import random\n",
    "import time"
   ]
  },
  {
   "cell_type": "code",
   "execution_count": null,
   "id": "a28df42d",
   "metadata": {},
   "outputs": [],
   "source": [
    "#Login\n",
    "client = Client()\n",
    "client.login(config2.username, config2.password)"
   ]
  },
  {
   "cell_type": "code",
   "execution_count": null,
   "id": "241713b8",
   "metadata": {},
   "outputs": [],
   "source": [
    "#Define the hashtag you want to scrape from\n",
    "hashtag = \"developer\""
   ]
  },
  {
   "cell_type": "code",
   "execution_count": null,
   "id": "c64cbf0a",
   "metadata": {},
   "outputs": [],
   "source": [
    "#Get top medias for the chosen hashtag\n",
    "top_medias = client.hashtag_medias_top(hashtag, 5)"
   ]
  },
  {
   "cell_type": "code",
   "execution_count": null,
   "id": "00fd4be0",
   "metadata": {},
   "outputs": [],
   "source": [
    "likers_list = []\n",
    "\n",
    "#Iterate over each post and append the users who liked it to a list\n",
    "for media in top_medias:\n",
    "    media_likers = client.media_likers(media.id)\n",
    "    for liker in media_likers:\n",
    "        likers_list.append(liker)"
   ]
  },
  {
   "cell_type": "code",
   "execution_count": null,
   "id": "bd277cdf",
   "metadata": {},
   "outputs": [],
   "source": [
    "#Remove duplicates\n",
    "likers_list = set(likers_list)"
   ]
  },
  {
   "cell_type": "code",
   "execution_count": null,
   "id": "108ba763",
   "metadata": {},
   "outputs": [],
   "source": [
    "# Initialize counters\n",
    "count_users = 0\n",
    "count_users_total = 0\n",
    "max_break = 15 # Take a short break after following this number of accounts\n",
    "max_follows = 30 # Stop after following this number of accounts\n",
    "\n",
    "# Fetch the list of accounts you follow\n",
    "following = client.user_following(client.user_id)\n",
    "\n",
    "for liker in likers_list:\n",
    "\n",
    "    \n",
    "    # Check if max_follows limit was reached\n",
    "    if count_users_total >= max_follows:\n",
    "        print(\"Reached maximum follow limit. Stopping now.\")\n",
    "        break\n",
    "\n",
    "        \n",
    "    # Check if your account already follows the user    \n",
    "    if liker.pk in following:\n",
    "        print(f\"Already following {liker.username}. Skipping...\")\n",
    "        continue\n",
    "        \n",
    "    # Follow user\n",
    "    try:\n",
    "        client.user_follow(liker.pk)\n",
    "        print(f\"Followed {liker.username}\")\n",
    "        count_users +=1\n",
    "        count_users_total +=1\n",
    "    except Exception as e:\n",
    "        print(f\"Error following {liker.username}: {e}\")\n",
    "        continue\n",
    "\n",
    "\n",
    "    # Short wait to mimic human behavior\n",
    "    time.sleep(random.randint(5,10))\n",
    "        \n",
    "    # Randomize the number of medias to like\n",
    "    num_medias_to_like = random.randint(2,5)\n",
    "\n",
    "    \n",
    "    # Get user medias\n",
    "    try:\n",
    "        user_medias = client.user_medias(liker.pk, num_medias_to_like)\n",
    "    except Exception as e:\n",
    "        f\"Error extracting media {media.id} from user: {liker.username}: {e}\"\n",
    "        \n",
    "\n",
    "    # Like each media and print a message\n",
    "    try:\n",
    "        for media in user_medias:\n",
    "                client.media_like(media.id)\n",
    "                print(f\"Liked media with id {media.id} from user: {liker.username}\")\n",
    "    except Exception as e:\n",
    "        print(f\"Error interacting with media {media.id} from user: {liker.username}: {e}\")\n",
    "        \n",
    "                \n",
    "    # Short wait to mimic human behavior\n",
    "    time.sleep(random.randint(5,10))\n",
    "    \n",
    "    # Check if max_break limit was reached\n",
    "    if count_users % max_break == 0:\n",
    "        print (f\"Followed {count_users} accounts, taking a short break.\")\n",
    "    \n",
    "        # Short break\n",
    "        time.sleep(random.randint(60,120))"
   ]
  }
 ],
 "metadata": {
  "kernelspec": {
   "display_name": "Python 3 (ipykernel)",
   "language": "python",
   "name": "python3"
  },
  "language_info": {
   "codemirror_mode": {
    "name": "ipython",
    "version": 3
   },
   "file_extension": ".py",
   "mimetype": "text/x-python",
   "name": "python",
   "nbconvert_exporter": "python",
   "pygments_lexer": "ipython3",
   "version": "3.10.9"
  }
 },
 "nbformat": 4,
 "nbformat_minor": 5
}
