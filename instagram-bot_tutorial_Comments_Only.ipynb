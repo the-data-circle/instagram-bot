{
 "cells": [
  {
   "cell_type": "code",
   "execution_count": null,
   "id": "c66dddf7",
   "metadata": {},
   "outputs": [],
   "source": [
    "#Import Dependencies\n"
   ]
  },
  {
   "cell_type": "code",
   "execution_count": null,
   "id": "a28df42d",
   "metadata": {},
   "outputs": [],
   "source": [
    "#Login\n"
   ]
  },
  {
   "cell_type": "code",
   "execution_count": null,
   "id": "241713b8",
   "metadata": {},
   "outputs": [],
   "source": [
    "#Define the hashtag you want to scrape from\n"
   ]
  },
  {
   "cell_type": "code",
   "execution_count": null,
   "id": "c64cbf0a",
   "metadata": {},
   "outputs": [],
   "source": [
    "#Get top medias for the chosen hashtag\n"
   ]
  },
  {
   "cell_type": "code",
   "execution_count": null,
   "id": "00fd4be0",
   "metadata": {},
   "outputs": [],
   "source": [
    "\n",
    "\n",
    "#Iterate over each post and append the users who liked it to a list\n"
   ]
  },
  {
   "cell_type": "code",
   "execution_count": null,
   "id": "bd277cdf",
   "metadata": {},
   "outputs": [],
   "source": [
    "#Remove duplicates\n"
   ]
  },
  {
   "cell_type": "code",
   "execution_count": null,
   "id": "108ba763",
   "metadata": {},
   "outputs": [],
   "source": [
    "# Initialize counters\n",
    "\n",
    "# Take a short break after following this number of accounts\n",
    "# Stop after following this number of accounts\n",
    "\n",
    "# Fetch the list of accounts you follow\n",
    "    \n",
    "    # Check if max_follows limit was reached\n",
    "        \n",
    "    # Check if your account already follows the user    \n",
    "        \n",
    "    # Follow user\n",
    "\n",
    "    # Short wait to mimic human behavior\n",
    "        \n",
    "    # Randomize the number of medias to like\n",
    "\n",
    "    \n",
    "    # Get user medias\n",
    "\n",
    "\n",
    "    # Like each media and print a message\n",
    "    \n",
    "    # Short wait to mimic human behavior\n",
    "    \n",
    "    # Check if max_break limit was reached\n",
    "    \n",
    "        # Short break"
   ]
  }
 ],
 "metadata": {
  "kernelspec": {
   "display_name": "Python 3 (ipykernel)",
   "language": "python",
   "name": "python3"
  },
  "language_info": {
   "codemirror_mode": {
    "name": "ipython",
    "version": 3
   },
   "file_extension": ".py",
   "mimetype": "text/x-python",
   "name": "python",
   "nbconvert_exporter": "python",
   "pygments_lexer": "ipython3",
   "version": "3.10.9"
  }
 },
 "nbformat": 4,
 "nbformat_minor": 5
}
